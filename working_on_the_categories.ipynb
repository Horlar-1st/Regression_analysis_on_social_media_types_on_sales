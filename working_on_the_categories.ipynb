{
 "cells": [
  {
   "cell_type": "code",
   "execution_count": 1,
   "id": "80a1740a-a6e5-40b8-add0-fb9365f91e0c",
   "metadata": {},
   "outputs": [],
   "source": [
    "import pandas as pd\n",
    "import numpy as np"
   ]
  },
  {
   "cell_type": "code",
   "execution_count": 2,
   "id": "723940cd-3310-4710-b76a-c10adf594cd9",
   "metadata": {},
   "outputs": [
    {
     "data": {
      "text/html": [
       "<div>\n",
       "<style scoped>\n",
       "    .dataframe tbody tr th:only-of-type {\n",
       "        vertical-align: middle;\n",
       "    }\n",
       "\n",
       "    .dataframe tbody tr th {\n",
       "        vertical-align: top;\n",
       "    }\n",
       "\n",
       "    .dataframe thead th {\n",
       "        text-align: right;\n",
       "    }\n",
       "</style>\n",
       "<table border=\"1\" class=\"dataframe\">\n",
       "  <thead>\n",
       "    <tr style=\"text-align: right;\">\n",
       "      <th></th>\n",
       "      <th>type</th>\n",
       "      <th>social_media</th>\n",
       "      <th>categories</th>\n",
       "      <th>sales_performance</th>\n",
       "      <th>positive_impact</th>\n",
       "      <th>social_vs_sales</th>\n",
       "    </tr>\n",
       "  </thead>\n",
       "  <tbody>\n",
       "    <tr>\n",
       "      <th>0</th>\n",
       "      <td>Electronics &amp; Gadgets</td>\n",
       "      <td>Facebook, Tik-Tok</td>\n",
       "      <td>Home Appliances</td>\n",
       "      <td>Yes, a significant increase</td>\n",
       "      <td>Strongly agree</td>\n",
       "      <td>Yes, high engagement leads to more sales</td>\n",
       "    </tr>\n",
       "    <tr>\n",
       "      <th>1</th>\n",
       "      <td>Clothing &amp; Apparel</td>\n",
       "      <td>Facebook, Instagram, Twitter/X, Tik-Tok</td>\n",
       "      <td>Clothing &amp; Apparel</td>\n",
       "      <td>Yes, a significant increase</td>\n",
       "      <td>Strongly agree</td>\n",
       "      <td>Yes, high engagement leads to more sales</td>\n",
       "    </tr>\n",
       "  </tbody>\n",
       "</table>\n",
       "</div>"
      ],
      "text/plain": [
       "                    type                             social_media  \\\n",
       "0  Electronics & Gadgets                        Facebook, Tik-Tok   \n",
       "1     Clothing & Apparel  Facebook, Instagram, Twitter/X, Tik-Tok   \n",
       "\n",
       "           categories            sales_performance positive_impact  \\\n",
       "0     Home Appliances  Yes, a significant increase  Strongly agree   \n",
       "1  Clothing & Apparel  Yes, a significant increase  Strongly agree   \n",
       "\n",
       "                            social_vs_sales  \n",
       "0  Yes, high engagement leads to more sales  \n",
       "1  Yes, high engagement leads to more sales  "
      ]
     },
     "execution_count": 2,
     "metadata": {},
     "output_type": "execute_result"
    }
   ],
   "source": [
    "advert = pd.read_csv(\"data/advert_categories.csv\", index_col=[0])\n",
    "advert.head(2)"
   ]
  },
  {
   "cell_type": "markdown",
   "id": "dbb176ba-0d93-4de2-b627-9764d7aea633",
   "metadata": {},
   "source": [
    "# Setting the social media types"
   ]
  },
  {
   "cell_type": "code",
   "execution_count": 3,
   "id": "89b12f50-b14e-4a4d-b166-d09b37045403",
   "metadata": {},
   "outputs": [],
   "source": [
    "# cleaning the social media column\n",
    "advert[\"social_media\"] = advert[\"social_media\"].str.replace(\"-\", \"\")\n",
    "advert[\"social_media\"] = advert[\"social_media\"].str.replace(\"/X\", \"\")"
   ]
  },
  {
   "cell_type": "code",
   "execution_count": 4,
   "id": "1af65935-8133-4ff1-815f-3b0b2122f118",
   "metadata": {},
   "outputs": [],
   "source": [
    "# available social media platforms\n",
    "social_media = [\"Facebook\", \"Instagram\", \"Twitter\", \"LinkedIn\", 'WhatsApp', \"TikTok\", \"Telegram\", \"Snapchat\"]"
   ]
  },
  {
   "cell_type": "code",
   "execution_count": 5,
   "id": "ce430cca-1078-4068-9fad-8418330a639d",
   "metadata": {},
   "outputs": [],
   "source": [
    "def get_ads(col):\n",
    "    vals = list(col)\n",
    "    ads_dict = {i: [] for i in social_media}\n",
    "    for i in vals:\n",
    "        ads_list = i.split(\", \")\n",
    "        for ads in ads_dict:\n",
    "            ads_dict[ads].append(len(set(ads_list) & {ads}))\n",
    "    return ads_dict"
   ]
  },
  {
   "cell_type": "code",
   "execution_count": 6,
   "id": "4b43e9b7-ddd3-477b-aa8f-6a360802f3d8",
   "metadata": {},
   "outputs": [],
   "source": [
    "# getting the distinct ads and converting to dataframe\n",
    "ads_dict = get_ads(advert[\"social_media\"])\n",
    "ads_df = pd.DataFrame(ads_dict)"
   ]
  },
  {
   "cell_type": "code",
   "execution_count": 7,
   "id": "09b0f924-e873-4aa7-a41b-d000270ddb95",
   "metadata": {},
   "outputs": [
    {
     "data": {
      "text/html": [
       "<div>\n",
       "<style scoped>\n",
       "    .dataframe tbody tr th:only-of-type {\n",
       "        vertical-align: middle;\n",
       "    }\n",
       "\n",
       "    .dataframe tbody tr th {\n",
       "        vertical-align: top;\n",
       "    }\n",
       "\n",
       "    .dataframe thead th {\n",
       "        text-align: right;\n",
       "    }\n",
       "</style>\n",
       "<table border=\"1\" class=\"dataframe\">\n",
       "  <thead>\n",
       "    <tr style=\"text-align: right;\">\n",
       "      <th></th>\n",
       "      <th>type</th>\n",
       "      <th>social_media</th>\n",
       "      <th>categories</th>\n",
       "      <th>sales_performance</th>\n",
       "      <th>positive_impact</th>\n",
       "      <th>social_vs_sales</th>\n",
       "      <th>Facebook</th>\n",
       "      <th>Instagram</th>\n",
       "      <th>Twitter</th>\n",
       "      <th>LinkedIn</th>\n",
       "      <th>WhatsApp</th>\n",
       "      <th>TikTok</th>\n",
       "      <th>Telegram</th>\n",
       "      <th>Snapchat</th>\n",
       "    </tr>\n",
       "  </thead>\n",
       "  <tbody>\n",
       "    <tr>\n",
       "      <th>0</th>\n",
       "      <td>Electronics &amp; Gadgets</td>\n",
       "      <td>Facebook, TikTok</td>\n",
       "      <td>Home Appliances</td>\n",
       "      <td>Yes, a significant increase</td>\n",
       "      <td>Strongly agree</td>\n",
       "      <td>Yes, high engagement leads to more sales</td>\n",
       "      <td>1</td>\n",
       "      <td>0</td>\n",
       "      <td>0</td>\n",
       "      <td>0</td>\n",
       "      <td>0</td>\n",
       "      <td>1</td>\n",
       "      <td>0</td>\n",
       "      <td>0</td>\n",
       "    </tr>\n",
       "    <tr>\n",
       "      <th>1</th>\n",
       "      <td>Clothing &amp; Apparel</td>\n",
       "      <td>Facebook, Instagram, Twitter, TikTok</td>\n",
       "      <td>Clothing &amp; Apparel</td>\n",
       "      <td>Yes, a significant increase</td>\n",
       "      <td>Strongly agree</td>\n",
       "      <td>Yes, high engagement leads to more sales</td>\n",
       "      <td>1</td>\n",
       "      <td>1</td>\n",
       "      <td>1</td>\n",
       "      <td>0</td>\n",
       "      <td>0</td>\n",
       "      <td>1</td>\n",
       "      <td>0</td>\n",
       "      <td>0</td>\n",
       "    </tr>\n",
       "  </tbody>\n",
       "</table>\n",
       "</div>"
      ],
      "text/plain": [
       "                    type                          social_media  \\\n",
       "0  Electronics & Gadgets                      Facebook, TikTok   \n",
       "1     Clothing & Apparel  Facebook, Instagram, Twitter, TikTok   \n",
       "\n",
       "           categories            sales_performance positive_impact  \\\n",
       "0     Home Appliances  Yes, a significant increase  Strongly agree   \n",
       "1  Clothing & Apparel  Yes, a significant increase  Strongly agree   \n",
       "\n",
       "                            social_vs_sales  Facebook  Instagram  Twitter  \\\n",
       "0  Yes, high engagement leads to more sales         1          0        0   \n",
       "1  Yes, high engagement leads to more sales         1          1        1   \n",
       "\n",
       "   LinkedIn  WhatsApp  TikTok  Telegram  Snapchat  \n",
       "0         0         0       1         0         0  \n",
       "1         0         0       1         0         0  "
      ]
     },
     "execution_count": 7,
     "metadata": {},
     "output_type": "execute_result"
    }
   ],
   "source": [
    "# merging both dataframes\n",
    "new_advert = pd.merge(advert, ads_df, left_index=True, right_index=True)\n",
    "new_advert.head(2)"
   ]
  },
  {
   "cell_type": "markdown",
   "id": "a2faa62d-7cb4-4044-abaf-3054f28ef686",
   "metadata": {},
   "source": [
    "# Working on the dependent variable"
   ]
  },
  {
   "cell_type": "code",
   "execution_count": 8,
   "id": "b2ff0f70-d217-49ac-9f60-d43d3dff7e61",
   "metadata": {},
   "outputs": [],
   "source": [
    "# ranking the sales_performance column\n",
    "sales_performance_rank = ['Sales decrease', 'No, noticeable change', 'Yes, a slight increase', 'Yes, a significant increase']\n",
    "new_advert[\"sales_performance\"] = pd.Categorical(new_advert[\"sales_performance\"], categories=sales_performance_rank, ordered=True)"
   ]
  },
  {
   "cell_type": "code",
   "execution_count": 9,
   "id": "0e741300-2da6-46ab-9e70-e45bac46d725",
   "metadata": {},
   "outputs": [],
   "source": [
    "# ranking the positive_impact column\n",
    "positive_impact_rank = ['Strongly disagree', 'Disagree', 'Neutral', 'Agree', 'Strongly agree']\n",
    "new_advert[\"positive_impact\"] = pd.Categorical(new_advert[\"positive_impact\"], categories=positive_impact_rank, ordered=True)"
   ]
  },
  {
   "cell_type": "code",
   "execution_count": 10,
   "id": "27b1f7d4-2543-42ff-a0ea-a5d13534ed2a",
   "metadata": {},
   "outputs": [],
   "source": [
    "# ranking the social_vs_sales column\n",
    "social_vs_sales_rank = ['No noticeable impact', 'Sometimes, but not always', 'Yes, high engagement leads to more sales']\n",
    "new_advert[\"social_vs_sales\"] = pd.Categorical(new_advert[\"social_vs_sales\"], categories=social_vs_sales_rank, ordered=True)"
   ]
  },
  {
   "cell_type": "code",
   "execution_count": 11,
   "id": "7e177359-ae8a-4fb5-bd1f-3b0ea176c10c",
   "metadata": {},
   "outputs": [],
   "source": [
    "# the dependent varible sales_score\n",
    "new_advert['sales_score'] = new_advert[\"positive_impact\"].cat.codes + new_advert[\"social_vs_sales\"].cat.codes + new_advert[\"sales_performance\"].cat.codes"
   ]
  },
  {
   "cell_type": "code",
   "execution_count": 12,
   "id": "bb1c46e7-3d50-44a1-9620-bb28e6505c4e",
   "metadata": {},
   "outputs": [],
   "source": [
    "# my new dataframe for analysis\n",
    "new_advert.drop(columns=['social_media', 'type', 'sales_performance', 'positive_impact', 'social_vs_sales'], inplace=True)"
   ]
  },
  {
   "cell_type": "code",
   "execution_count": 13,
   "id": "c854f2c4-3ba3-42df-9a3a-9e0204300de9",
   "metadata": {},
   "outputs": [
    {
     "data": {
      "text/html": [
       "<div>\n",
       "<style scoped>\n",
       "    .dataframe tbody tr th:only-of-type {\n",
       "        vertical-align: middle;\n",
       "    }\n",
       "\n",
       "    .dataframe tbody tr th {\n",
       "        vertical-align: top;\n",
       "    }\n",
       "\n",
       "    .dataframe thead th {\n",
       "        text-align: right;\n",
       "    }\n",
       "</style>\n",
       "<table border=\"1\" class=\"dataframe\">\n",
       "  <thead>\n",
       "    <tr style=\"text-align: right;\">\n",
       "      <th></th>\n",
       "      <th>categories</th>\n",
       "      <th>Facebook</th>\n",
       "      <th>Instagram</th>\n",
       "      <th>Twitter</th>\n",
       "      <th>LinkedIn</th>\n",
       "      <th>WhatsApp</th>\n",
       "      <th>TikTok</th>\n",
       "      <th>Telegram</th>\n",
       "      <th>Snapchat</th>\n",
       "      <th>sales_score</th>\n",
       "    </tr>\n",
       "  </thead>\n",
       "  <tbody>\n",
       "    <tr>\n",
       "      <th>0</th>\n",
       "      <td>Home Appliances</td>\n",
       "      <td>1</td>\n",
       "      <td>0</td>\n",
       "      <td>0</td>\n",
       "      <td>0</td>\n",
       "      <td>0</td>\n",
       "      <td>1</td>\n",
       "      <td>0</td>\n",
       "      <td>0</td>\n",
       "      <td>9</td>\n",
       "    </tr>\n",
       "    <tr>\n",
       "      <th>1</th>\n",
       "      <td>Clothing &amp; Apparel</td>\n",
       "      <td>1</td>\n",
       "      <td>1</td>\n",
       "      <td>1</td>\n",
       "      <td>0</td>\n",
       "      <td>0</td>\n",
       "      <td>1</td>\n",
       "      <td>0</td>\n",
       "      <td>0</td>\n",
       "      <td>9</td>\n",
       "    </tr>\n",
       "    <tr>\n",
       "      <th>2</th>\n",
       "      <td>Home Appliances</td>\n",
       "      <td>0</td>\n",
       "      <td>0</td>\n",
       "      <td>0</td>\n",
       "      <td>0</td>\n",
       "      <td>0</td>\n",
       "      <td>1</td>\n",
       "      <td>0</td>\n",
       "      <td>0</td>\n",
       "      <td>6</td>\n",
       "    </tr>\n",
       "  </tbody>\n",
       "</table>\n",
       "</div>"
      ],
      "text/plain": [
       "           categories  Facebook  Instagram  Twitter  LinkedIn  WhatsApp  \\\n",
       "0     Home Appliances         1          0        0         0         0   \n",
       "1  Clothing & Apparel         1          1        1         0         0   \n",
       "2     Home Appliances         0          0        0         0         0   \n",
       "\n",
       "   TikTok  Telegram  Snapchat  sales_score  \n",
       "0       1         0         0            9  \n",
       "1       1         0         0            9  \n",
       "2       1         0         0            6  "
      ]
     },
     "execution_count": 13,
     "metadata": {},
     "output_type": "execute_result"
    }
   ],
   "source": [
    "new_advert.head(3)"
   ]
  },
  {
   "cell_type": "code",
   "execution_count": 14,
   "id": "5d0d19f5-a1a6-45ed-aa2a-d7ff101df26a",
   "metadata": {},
   "outputs": [],
   "source": [
    "new_advert.to_csv(\"data/clean_advert.csv\")"
   ]
  },
  {
   "cell_type": "code",
   "execution_count": null,
   "id": "c958ad9f-ab5f-48d3-bd5a-c475d3f35fbb",
   "metadata": {},
   "outputs": [],
   "source": []
  }
 ],
 "metadata": {
  "kernelspec": {
   "display_name": "Python 3 (ipykernel)",
   "language": "python",
   "name": "python3"
  },
  "language_info": {
   "codemirror_mode": {
    "name": "ipython",
    "version": 3
   },
   "file_extension": ".py",
   "mimetype": "text/x-python",
   "name": "python",
   "nbconvert_exporter": "python",
   "pygments_lexer": "ipython3",
   "version": "3.12.7"
  }
 },
 "nbformat": 4,
 "nbformat_minor": 5
}
