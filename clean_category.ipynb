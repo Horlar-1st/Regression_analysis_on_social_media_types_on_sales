{
 "cells": [
  {
   "cell_type": "code",
   "execution_count": 1,
   "id": "5dd5bce2-c363-4cfe-85c5-f623862e9951",
   "metadata": {
    "id": "5dd5bce2-c363-4cfe-85c5-f623862e9951"
   },
   "outputs": [],
   "source": [
    "import pandas as pd\n",
    "import numpy as np\n",
    "import matplotlib.pyplot as plt\n",
    "import seaborn as sns"
   ]
  },
  {
   "cell_type": "code",
   "execution_count": 2,
   "id": "3df515f6-4fcb-4ffc-8af2-b0ef92363db6",
   "metadata": {
    "id": "3df515f6-4fcb-4ffc-8af2-b0ef92363db6"
   },
   "outputs": [],
   "source": [
    "df = pd.read_csv(\"data/responses.csv\")"
   ]
  },
  {
   "cell_type": "code",
   "execution_count": 3,
   "id": "6b892b7c-dc49-4eae-a7b6-a595b63581a6",
   "metadata": {
    "colab": {
     "base_uri": "https://localhost:8080/"
    },
    "id": "6b892b7c-dc49-4eae-a7b6-a595b63581a6",
    "outputId": "adbad257-379e-4174-fc1e-b1c567d2a3b5"
   },
   "outputs": [
    {
     "data": {
      "text/plain": [
       "Index(['Timestamp', ' What is the name of your business? (Optional)',\n",
       "       'What type of products or services does your business offer?',\n",
       "       'What is the size of your business?',\n",
       "       'How long has your business been operating?',\n",
       "       'Do you use social media platforms for advertising?',\n",
       "       'Which social media platforms do you advertise on? (Select all that apply)',\n",
       "       'What is your monthly budget for social media advertisements?',\n",
       "       'How do you measure the effectiveness of your social media ads? (Select all that apply.)',\n",
       "       'How do customers usually engage with your social media ads? (Select all that apply.)',\n",
       "       'How often do your social media posts receive customer engagement (likes, shares, comments)?',\n",
       "       'Do you use other forms of advertising besides social media?',\n",
       "       'If yes, which traditional advertising methods do you use? (Select all that apply.)',\n",
       "       'What challenges do you face in using social media advertising? (Select all that apply.)',\n",
       "       'What are your primary sales channels? (Select all that apply.)',\n",
       "       'Have you noticed any changes in sales performance since using social media?',\n",
       "       'Do you believe social media has a positive impact on your sales performance?',\n",
       "       'Have you noticed any correlation between social media engagement and sales performance?',\n",
       "       'Are there any opportunities you see for improving your social media advertising and sales efforts?',\n",
       "       'How do you handle customer service and support through social media?'],\n",
       "      dtype='object')"
      ]
     },
     "execution_count": 3,
     "metadata": {},
     "output_type": "execute_result"
    }
   ],
   "source": [
    "df.columns"
   ]
  },
  {
   "cell_type": "code",
   "execution_count": 5,
   "id": "40155080-1933-4a06-a357-1397aebf47cf",
   "metadata": {},
   "outputs": [],
   "source": [
    "df.rename(columns={'What type of products or services does your business offer?': 'type',\n",
    "                  'Which social media platforms do you advertise on? (Select all that apply)': \"social_media\",\n",
    "                  'Have you noticed any changes in sales performance since using social media?': \"sales_performance\",\n",
    "                  'Do you believe social media has a positive impact on your sales performance?': \"positive_impact\",\n",
    "                  'Have you noticed any correlation between social media engagement and sales performance?': \"social_vs_sales\"}, inplace=True)"
   ]
  },
  {
   "cell_type": "code",
   "execution_count": 6,
   "id": "5e427a72-6296-45a3-bd1a-d7e245ab6103",
   "metadata": {},
   "outputs": [
    {
     "data": {
      "text/plain": [
       "array(['Electronics & Gadgets', 'Clothing & Apparel', 'Accessories',\n",
       "       'Barber', 'Cosmetics and deodorant', 'Kitchen utensils',\n",
       "       'Food & Beverages', 'Construction', 'Crochet wears',\n",
       "       'Chemist store', 'Drycleaning', 'Perfume', 'Drugs', 'Finance',\n",
       "       'Cooking gas', 'Nothing', 'Internet, designs', 'Fashion designer',\n",
       "       'Household items', 'Home essentials', 'Banking system',\n",
       "       'Electrical', 'Photography', 'Makeup artist',\n",
       "       'Frame, Throw Pillow, Mug, Magic Mug, and other gift items for birthday surprises',\n",
       "       'Haircut', 'Farming  and poultry', 'Graphics', 'Clothing and food',\n",
       "       'Tech', 'Catering and Decoration', 'Loc’s and carve',\n",
       "       'Science Lab/Equipments', 'Educational', 'Petty trade',\n",
       "       'Educational institute', 'Snacks', 'Hair'], dtype=object)"
      ]
     },
     "execution_count": 6,
     "metadata": {},
     "output_type": "execute_result"
    }
   ],
   "source": [
    "df[\"type\"] = df[\"type\"].str.strip()\n",
    "df[\"type\"].unique()"
   ]
  },
  {
   "cell_type": "code",
   "execution_count": 7,
   "id": "d971c6cd-eebe-4c5c-b325-7e436ee2b1de",
   "metadata": {},
   "outputs": [],
   "source": [
    "home = ['Electronics & Gadgets', 'Accessories', 'Kitchen utensils', 'Construction', 'Cooking gas', 'Electrical', 'Photography',\n",
    "         'Internet, designs', 'Household items', 'Home essentials', 'Graphics','Tech', 'Science Lab/Equipments']\n",
    "cloth = ['Clothing & Apparel', 'Barber', 'Cosmetics and deodorant', 'Crochet wears', 'Drycleaning', 'Perfume', 'Finance', 'Fashion designer',\n",
    "        'Banking system', 'Makeup artist', 'Frame, Throw Pillow, Mug, Magic Mug, and other gift items for birthday surprises', 'Haircut',\n",
    "        'Catering and Decoration', \"Hair\", 'Loc’s and carve']\n",
    "food = [\"Food & Beverages\", 'Chemist store', 'Drugs', 'Farming  and poultry',  'Educational', 'Petty trade', 'Educational institute',\n",
    "        'Clothing and food', 'Snacks']"
   ]
  },
  {
   "cell_type": "code",
   "execution_count": 9,
   "id": "7f420bf2-cf7f-48e2-82a9-f1ae889488f5",
   "metadata": {},
   "outputs": [],
   "source": [
    "df.loc[:, \"categories\"] = np.nan\n",
    "for i, types in enumerate(df[\"type\"]):\n",
    "    if types in home:\n",
    "        df.loc[i, \"categories\"] = 'Home Appliances'\n",
    "    elif types in cloth:\n",
    "        df.loc[i, \"categories\"] = 'Clothing & Apparel'\n",
    "    elif types in food:\n",
    "        df.loc[i, \"categories\"] = 'Food & Beverages'\n",
    "    else:\n",
    "        df.loc[i, \"categories\"] = np.nan"
   ]
  },
  {
   "cell_type": "code",
   "execution_count": 10,
   "id": "88f4609a-cefe-4c09-aae9-710d9f55a043",
   "metadata": {},
   "outputs": [
    {
     "data": {
      "text/plain": [
       "Do you use social media platforms for advertising?\n",
       "Yes    96\n",
       "No      6\n",
       "Name: count, dtype: int64"
      ]
     },
     "execution_count": 10,
     "metadata": {},
     "output_type": "execute_result"
    }
   ],
   "source": [
    "df['Do you use social media platforms for advertising?'].value_counts()"
   ]
  },
  {
   "cell_type": "code",
   "execution_count": 11,
   "id": "991fd658-8b9f-4bb0-b8cc-21d04b1e6990",
   "metadata": {},
   "outputs": [],
   "source": [
    "df1 = df[df['Do you use social media platforms for advertising?']==\"Yes\"]"
   ]
  },
  {
   "cell_type": "code",
   "execution_count": 12,
   "id": "fe12d4b9-5e8a-40e6-ad1f-c0d73e26976d",
   "metadata": {},
   "outputs": [
    {
     "data": {
      "text/plain": [
       "Do you use social media platforms for advertising?\n",
       "Yes    96\n",
       "Name: count, dtype: int64"
      ]
     },
     "execution_count": 12,
     "metadata": {},
     "output_type": "execute_result"
    }
   ],
   "source": [
    "df1['Do you use social media platforms for advertising?'].value_counts()"
   ]
  },
  {
   "cell_type": "code",
   "execution_count": 13,
   "id": "8f092f0a-ca3b-4904-946f-73533470797d",
   "metadata": {},
   "outputs": [],
   "source": [
    "advert = df1[[\"type\", \"social_media\", \"categories\", \"sales_performance\", \"positive_impact\", \"social_vs_sales\"]]\n",
    "advert = advert.copy()"
   ]
  },
  {
   "cell_type": "code",
   "execution_count": 22,
   "id": "6e03a7b9-ede8-4a16-b46b-bb886cf4c3bc",
   "metadata": {
    "id": "6e03a7b9-ede8-4a16-b46b-bb886cf4c3bc"
   },
   "outputs": [],
   "source": [
    "advert.dropna(inplace=True)\n",
    "advert.reset_index(drop=True, inplace=True)"
   ]
  },
  {
   "cell_type": "code",
   "execution_count": 23,
   "id": "223eb610-3ea5-4c75-bf15-94d10a55b061",
   "metadata": {},
   "outputs": [
    {
     "data": {
      "text/html": [
       "<div>\n",
       "<style scoped>\n",
       "    .dataframe tbody tr th:only-of-type {\n",
       "        vertical-align: middle;\n",
       "    }\n",
       "\n",
       "    .dataframe tbody tr th {\n",
       "        vertical-align: top;\n",
       "    }\n",
       "\n",
       "    .dataframe thead th {\n",
       "        text-align: right;\n",
       "    }\n",
       "</style>\n",
       "<table border=\"1\" class=\"dataframe\">\n",
       "  <thead>\n",
       "    <tr style=\"text-align: right;\">\n",
       "      <th></th>\n",
       "      <th>type</th>\n",
       "      <th>social_media</th>\n",
       "      <th>categories</th>\n",
       "      <th>sales_performance</th>\n",
       "      <th>positive_impact</th>\n",
       "      <th>social_vs_sales</th>\n",
       "    </tr>\n",
       "  </thead>\n",
       "  <tbody>\n",
       "    <tr>\n",
       "      <th>0</th>\n",
       "      <td>Electronics &amp; Gadgets</td>\n",
       "      <td>Facebook, Tik-Tok</td>\n",
       "      <td>Home Appliances</td>\n",
       "      <td>Yes, a significant increase</td>\n",
       "      <td>Strongly agree</td>\n",
       "      <td>Yes, high engagement leads to more sales</td>\n",
       "    </tr>\n",
       "    <tr>\n",
       "      <th>1</th>\n",
       "      <td>Clothing &amp; Apparel</td>\n",
       "      <td>Facebook, Instagram, Twitter/X, Tik-Tok</td>\n",
       "      <td>Clothing &amp; Apparel</td>\n",
       "      <td>Yes, a significant increase</td>\n",
       "      <td>Strongly agree</td>\n",
       "      <td>Yes, high engagement leads to more sales</td>\n",
       "    </tr>\n",
       "    <tr>\n",
       "      <th>2</th>\n",
       "      <td>Accessories</td>\n",
       "      <td>Tik-Tok</td>\n",
       "      <td>Home Appliances</td>\n",
       "      <td>No, noticeable change</td>\n",
       "      <td>Agree</td>\n",
       "      <td>Yes, high engagement leads to more sales</td>\n",
       "    </tr>\n",
       "    <tr>\n",
       "      <th>3</th>\n",
       "      <td>Barber</td>\n",
       "      <td>Tik-Tok</td>\n",
       "      <td>Clothing &amp; Apparel</td>\n",
       "      <td>Yes, a slight increase</td>\n",
       "      <td>Agree</td>\n",
       "      <td>Sometimes, but not always</td>\n",
       "    </tr>\n",
       "    <tr>\n",
       "      <th>4</th>\n",
       "      <td>Clothing &amp; Apparel</td>\n",
       "      <td>Instagram, Twitter/X, WhatsApp</td>\n",
       "      <td>Clothing &amp; Apparel</td>\n",
       "      <td>Yes, a significant increase</td>\n",
       "      <td>Agree</td>\n",
       "      <td>Yes, high engagement leads to more sales</td>\n",
       "    </tr>\n",
       "  </tbody>\n",
       "</table>\n",
       "</div>"
      ],
      "text/plain": [
       "                    type                             social_media  \\\n",
       "0  Electronics & Gadgets                        Facebook, Tik-Tok   \n",
       "1     Clothing & Apparel  Facebook, Instagram, Twitter/X, Tik-Tok   \n",
       "2            Accessories                                  Tik-Tok   \n",
       "3                 Barber                                  Tik-Tok   \n",
       "4     Clothing & Apparel           Instagram, Twitter/X, WhatsApp   \n",
       "\n",
       "           categories            sales_performance positive_impact  \\\n",
       "0     Home Appliances  Yes, a significant increase  Strongly agree   \n",
       "1  Clothing & Apparel  Yes, a significant increase  Strongly agree   \n",
       "2     Home Appliances        No, noticeable change           Agree   \n",
       "3  Clothing & Apparel       Yes, a slight increase           Agree   \n",
       "4  Clothing & Apparel  Yes, a significant increase           Agree   \n",
       "\n",
       "                            social_vs_sales  \n",
       "0  Yes, high engagement leads to more sales  \n",
       "1  Yes, high engagement leads to more sales  \n",
       "2  Yes, high engagement leads to more sales  \n",
       "3                 Sometimes, but not always  \n",
       "4  Yes, high engagement leads to more sales  "
      ]
     },
     "execution_count": 23,
     "metadata": {},
     "output_type": "execute_result"
    }
   ],
   "source": [
    "advert.head()"
   ]
  },
  {
   "cell_type": "code",
   "execution_count": 24,
   "id": "5f4da208-0aa2-421b-aa2b-6229e9ab0506",
   "metadata": {},
   "outputs": [
    {
     "data": {
      "text/plain": [
       "categories\n",
       "Clothing & Apparel    40\n",
       "Home Appliances       28\n",
       "Food & Beverages      27\n",
       "Name: count, dtype: int64"
      ]
     },
     "execution_count": 24,
     "metadata": {},
     "output_type": "execute_result"
    }
   ],
   "source": [
    "advert[\"categories\"].value_counts(dropna=False)"
   ]
  },
  {
   "cell_type": "code",
   "execution_count": 25,
   "id": "334101dc-91be-4daf-81b7-10696306bb21",
   "metadata": {},
   "outputs": [
    {
     "data": {
      "text/plain": [
       "Index(['type', 'social_media', 'categories', 'sales_performance',\n",
       "       'positive_impact', 'social_vs_sales'],\n",
       "      dtype='object')"
      ]
     },
     "execution_count": 25,
     "metadata": {},
     "output_type": "execute_result"
    }
   ],
   "source": [
    "advert.columns"
   ]
  },
  {
   "cell_type": "code",
   "execution_count": 26,
   "id": "1b462e20-bd16-4609-aa8a-75679b6b63e1",
   "metadata": {},
   "outputs": [
    {
     "data": {
      "text/plain": [
       "(95, 6)"
      ]
     },
     "execution_count": 26,
     "metadata": {},
     "output_type": "execute_result"
    }
   ],
   "source": [
    "advert.shape"
   ]
  },
  {
   "cell_type": "code",
   "execution_count": 27,
   "id": "b37f7bbb-3681-43a3-ae51-25cf627ec079",
   "metadata": {},
   "outputs": [
    {
     "name": "stdout",
     "output_type": "stream",
     "text": [
      "<class 'pandas.core.frame.DataFrame'>\n",
      "RangeIndex: 95 entries, 0 to 94\n",
      "Data columns (total 6 columns):\n",
      " #   Column             Non-Null Count  Dtype \n",
      "---  ------             --------------  ----- \n",
      " 0   type               95 non-null     object\n",
      " 1   social_media       95 non-null     object\n",
      " 2   categories         95 non-null     object\n",
      " 3   sales_performance  95 non-null     object\n",
      " 4   positive_impact    95 non-null     object\n",
      " 5   social_vs_sales    95 non-null     object\n",
      "dtypes: object(6)\n",
      "memory usage: 4.6+ KB\n"
     ]
    }
   ],
   "source": [
    "advert.info()"
   ]
  },
  {
   "cell_type": "code",
   "execution_count": 28,
   "id": "a50d271e-e367-4ee9-b8d2-af9b36af7d0a",
   "metadata": {},
   "outputs": [],
   "source": [
    "advert.to_csv(\"data/advert_categories.csv\")"
   ]
  },
  {
   "cell_type": "code",
   "execution_count": null,
   "id": "de287e81-980d-49ea-a85e-cd14f9c72ab8",
   "metadata": {},
   "outputs": [],
   "source": []
  }
 ],
 "metadata": {
  "colab": {
   "provenance": []
  },
  "kernelspec": {
   "display_name": "Python 3 (ipykernel)",
   "language": "python",
   "name": "python3"
  },
  "language_info": {
   "codemirror_mode": {
    "name": "ipython",
    "version": 3
   },
   "file_extension": ".py",
   "mimetype": "text/x-python",
   "name": "python",
   "nbconvert_exporter": "python",
   "pygments_lexer": "ipython3",
   "version": "3.12.7"
  }
 },
 "nbformat": 4,
 "nbformat_minor": 5
}
